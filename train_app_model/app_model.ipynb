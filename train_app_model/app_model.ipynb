{
 "cells": [
  {
   "cell_type": "code",
   "execution_count": 11,
   "metadata": {},
   "outputs": [],
   "source": [
    "import pandas as pd\n",
    "import numpy as np\n",
    "from itertools import count\n",
    "from sklearn.feature_extraction.text import CountVectorizer"
   ]
  },
  {
   "cell_type": "code",
   "execution_count": 12,
   "metadata": {},
   "outputs": [
    {
     "data": {
      "text/html": [
       "<div>\n",
       "<style scoped>\n",
       "    .dataframe tbody tr th:only-of-type {\n",
       "        vertical-align: middle;\n",
       "    }\n",
       "\n",
       "    .dataframe tbody tr th {\n",
       "        vertical-align: top;\n",
       "    }\n",
       "\n",
       "    .dataframe thead th {\n",
       "        text-align: right;\n",
       "    }\n",
       "</style>\n",
       "<table border=\"1\" class=\"dataframe\">\n",
       "  <thead>\n",
       "    <tr style=\"text-align: right;\">\n",
       "      <th></th>\n",
       "      <th>screen_list</th>\n",
       "      <th>numscreens</th>\n",
       "      <th>liked</th>\n",
       "    </tr>\n",
       "  </thead>\n",
       "  <tbody>\n",
       "    <tr>\n",
       "      <th>0</th>\n",
       "      <td>idscreen,joinscreen,Cycle,product_review,ScanP...</td>\n",
       "      <td>15</td>\n",
       "      <td>0</td>\n",
       "    </tr>\n",
       "    <tr>\n",
       "      <th>1</th>\n",
       "      <td>joinscreen,product_review,product_review2,Scan...</td>\n",
       "      <td>13</td>\n",
       "      <td>0</td>\n",
       "    </tr>\n",
       "    <tr>\n",
       "      <th>2</th>\n",
       "      <td>Splash,Cycle,Loan</td>\n",
       "      <td>3</td>\n",
       "      <td>1</td>\n",
       "    </tr>\n",
       "    <tr>\n",
       "      <th>3</th>\n",
       "      <td>product_review,Home,product_review,Loan3,Finan...</td>\n",
       "      <td>40</td>\n",
       "      <td>0</td>\n",
       "    </tr>\n",
       "    <tr>\n",
       "      <th>4</th>\n",
       "      <td>idscreen,joinscreen,Cycle,Credit3Container,Sca...</td>\n",
       "      <td>32</td>\n",
       "      <td>1</td>\n",
       "    </tr>\n",
       "  </tbody>\n",
       "</table>\n",
       "</div>"
      ],
      "text/plain": [
       "                                         screen_list  numscreens  liked\n",
       "0  idscreen,joinscreen,Cycle,product_review,ScanP...          15      0\n",
       "1  joinscreen,product_review,product_review2,Scan...          13      0\n",
       "2                                  Splash,Cycle,Loan           3      1\n",
       "3  product_review,Home,product_review,Loan3,Finan...          40      0\n",
       "4  idscreen,joinscreen,Cycle,Credit3Container,Sca...          32      1"
      ]
     },
     "execution_count": 12,
     "metadata": {},
     "output_type": "execute_result"
    }
   ],
   "source": [
    "df = pd.read_csv(\"/home/musasina/projects/FintechAppDRL/dataset/appdata10.csv\")\n",
    "df=df.drop(\"user\",axis=1)\n",
    "df=df.drop(\"first_open\",axis=1)\n",
    "df=df.drop(\"dayofweek\",axis=1)\n",
    "df=df.drop(\"hour\",axis=1)\n",
    "df=df.drop(\"age\",axis=1)\n",
    "df=df.drop(\"minigame\",axis=1)\n",
    "df=df.drop(\"used_premium_feature\",axis=1)\n",
    "df=df.drop(\"enrolled\",axis=1)\n",
    "df=df.drop(\"enrolled_date\",axis=1)\n",
    "df.head()"
   ]
  },
  {
   "cell_type": "code",
   "execution_count": 13,
   "metadata": {},
   "outputs": [],
   "source": [
    "df[\"numscreens\"] = df[\"numscreens\"].astype(int)\n",
    "df[\"liked\"] = df[\"liked\"].astype(int)\n",
    "df = df[df[\"numscreens\"]>9]\n",
    "df = df[df[\"numscreens\"]<15]"
   ]
  },
  {
   "cell_type": "code",
   "execution_count": 14,
   "metadata": {},
   "outputs": [
    {
     "name": "stdout",
     "output_type": "stream",
     "text": [
      "liked:  1361\n",
      "not liked:  6807\n"
     ]
    }
   ],
   "source": [
    "df_liked = df[df[\"liked\"]==1]\n",
    "df_not_liked = df[df[\"liked\"]==0]\n",
    "print(\"liked: \",len(df_liked))\n",
    "print(\"not liked: \",len(df_not_liked))"
   ]
  },
  {
   "cell_type": "code",
   "execution_count": 15,
   "metadata": {},
   "outputs": [],
   "source": [
    "screens_liked = df_liked[\"screen_list\"].to_list()\n",
    "screens_not_liked = df_not_liked[\"screen_list\"].to_list()"
   ]
  },
  {
   "cell_type": "code",
   "execution_count": 16,
   "metadata": {},
   "outputs": [
    {
     "name": "stdout",
     "output_type": "stream",
     "text": [
      "1361\n"
     ]
    }
   ],
   "source": [
    "separated_screens_liked = []\n",
    "for user_screens in screens_liked:\n",
    "    separated_screens_liked.append(user_screens.split(\",\"))\n",
    "print(len(separated_screens_liked))"
   ]
  },
  {
   "cell_type": "code",
   "execution_count": 17,
   "metadata": {},
   "outputs": [
    {
     "name": "stdout",
     "output_type": "stream",
     "text": [
      "6807\n"
     ]
    }
   ],
   "source": [
    "separated_screens_not_liked = []\n",
    "for user_screens in screens_not_liked:\n",
    "    separated_screens_not_liked.append(user_screens.split(\",\"))\n",
    "print(len(separated_screens_not_liked))"
   ]
  },
  {
   "cell_type": "code",
   "execution_count": 18,
   "metadata": {},
   "outputs": [
    {
     "name": "stdout",
     "output_type": "stream",
     "text": [
      "71937\n"
     ]
    }
   ],
   "source": [
    "\n",
    "unique_screens = []\n",
    "\n",
    "for separated_user_screens in (separated_screens_liked + separated_screens_not_liked):\n",
    "    unique_screens.extend(np.unique(separated_user_screens))\n",
    "print(len(unique_screens))\n",
    "\n",
    "unique_screens_number_map = {}\n",
    "for i,screen in zip(count(),unique_screens):\n",
    "    unique_screens_number_map[screen] = i"
   ]
  },
  {
   "cell_type": "code",
   "execution_count": 19,
   "metadata": {},
   "outputs": [
    {
     "name": "stdout",
     "output_type": "stream",
     "text": [
      "{'cycle': 22, 'home': 31, 'loan2': 43, 'scanpreview': 104, 'verifycountry': 115, 'verifydateofbirth': 116, 'verifyphone': 121, 'verifytoken': 123, 'idscreen': 33, 'location': 57, 'product_review': 65, 'product_review3': 67, 'credit3container': 19, 'joinscreen': 36, 'product_review2': 66, 'verifyssn': 122, 'bankverification': 5, 'credit1': 15, 'credit3': 17, 'loan3': 44, 'selectinstitution': 106, 'loan1': 42, 'loanappschedulecall': 54, 'mlwebview': 61, 'profileeducationmajor': 74, 'profilepage': 78, 'rewardscontainer': 90, 'credit3dashboard': 20, 'institutions': 35, 'referralcontainer': 82, 'securitymodal': 105, 'splash': 111, 'verifymobile': 120, 'finances': 26, 'leaderboard': 38, 'verifyhousing': 117, 'verifyhousingamount': 118, 'loan': 41, 'landingscreen': 37, 'login': 58, 'settings': 107, 'alerts': 4, 'webview': 124, 'communityandinvites': 13, 'saving1': 91, 'saving9': 100, 'loginform': 59, 'rewards': 89, 'credit2': 16, 'history': 30, 'resendtoken': 85, 'editprofile': 23, 'accountview': 1, 'loanappesign': 49, 'loanapppaymentschedule': 50, 'loanappsuccess': 55, 'findfriendscycle': 27, 'profilechildren': 71, 'profilemaritalstatus': 77, 'saving2': 93, 'saving2amount': 94, 'saving8': 99, 'yournetwork': 126, 'verifybankinfo': 114, 'cc1': 10, 'cc1category': 11, 'credit3alerts': 18, 'product_review4': 68, 'product_review5': 69, 'groupedinstitutions': 29, 'saving4': 95, 'saving10': 92, 'saving7': 98, 'savinggoalincomesalary': 101, 'savinggoalother': 102, 'networkfailure': 62, 'rewardjoinscreen': 88, 'loan4': 45, 'loanappdenied': 48, 'newcontactlistinvite': 63, 'welcomebankverification': 125, 'signup': 108, 'profileverifyssn': 81, 'transactionlist': 112, 'rewarddetail': 87, 'referrals': 83, 'employmentinfo': 24, 'llloanamount': 40, 'cc3': 12, 'reviewcreditcard': 86, 'signupname': 110, 'profilecompanyname': 72, 'profileemploymentlength': 75, 'profileverifyincometype': 80, 'managefinances': 60, 'verifyannualincome': 113, 'boostfriendslist': 6, 'loanappbankinfo': 47, 'payoff': 64, 'forgotpassword': 28, 'about': 0, 'profileeducation': 73, 'verifyincometype': 119, 'listpicker': 39, 'profilejobtitle': 76, 'loanappagreement': 46, 'credits': 21, 'contactinfoconfirm': 14, 'loanapppromocode': 51, 'loanappreasons': 52, 'loanapprequestamount': 53, 'camerascreen': 9, 'bvplaidlinkcontainer': 7, 'referralscreen': 84, 'saving5': 96, 'saving6': 97, 'adverseactions': 3, 'identityverification': 32, 'profileannualincome': 70, 'bvstats': 8, 'loanappverifybankinfo': 56, 'instantoffercreateaccount': 34, 'employmentsummary': 25, 'addvehicle': 2, 'signupemail': 109, 'savinggoalpreview': 103, 'profileproduct_review': 79}\n",
      "127\n"
     ]
    }
   ],
   "source": [
    "result = CountVectorizer().fit(unique_screens)\n",
    "print(result.vocabulary_)\n",
    "print(len(result.vocabulary_))"
   ]
  },
  {
   "cell_type": "code",
   "execution_count": 20,
   "metadata": {},
   "outputs": [],
   "source": [
    "results = []\n",
    "for user_screens in separated_screens_liked:\n",
    "    past_screen = \"\"\n",
    "    squeezed_screens = []\n",
    "    for screen in user_screens:\n",
    "        if past_screen != screen:\n",
    "            squeezed_screens.append(screen)\n",
    "            past_screen = screen\n",
    "    results.append(squeezed_screens)"
   ]
  }
 ],
 "metadata": {
  "kernelspec": {
   "display_name": "teknofest",
   "language": "python",
   "name": "python3"
  },
  "language_info": {
   "codemirror_mode": {
    "name": "ipython",
    "version": 3
   },
   "file_extension": ".py",
   "mimetype": "text/x-python",
   "name": "python",
   "nbconvert_exporter": "python",
   "pygments_lexer": "ipython3",
   "version": "3.11.9"
  }
 },
 "nbformat": 4,
 "nbformat_minor": 2
}
