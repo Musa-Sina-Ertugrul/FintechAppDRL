{
 "cells": [
  {
   "cell_type": "code",
   "execution_count": 96,
   "metadata": {},
   "outputs": [],
   "source": [
    "import pandas as pd\n",
    "import numpy as np\n",
    "from itertools import count\n",
    "from gym_env.data_structures.node import Node\n",
    "from gym_env.data_structures import NodeType"
   ]
  },
  {
   "cell_type": "code",
   "execution_count": 97,
   "metadata": {},
   "outputs": [
    {
     "data": {
      "text/html": [
       "<div>\n",
       "<style scoped>\n",
       "    .dataframe tbody tr th:only-of-type {\n",
       "        vertical-align: middle;\n",
       "    }\n",
       "\n",
       "    .dataframe tbody tr th {\n",
       "        vertical-align: top;\n",
       "    }\n",
       "\n",
       "    .dataframe thead th {\n",
       "        text-align: right;\n",
       "    }\n",
       "</style>\n",
       "<table border=\"1\" class=\"dataframe\">\n",
       "  <thead>\n",
       "    <tr style=\"text-align: right;\">\n",
       "      <th></th>\n",
       "      <th>screen_list</th>\n",
       "      <th>numscreens</th>\n",
       "      <th>liked</th>\n",
       "    </tr>\n",
       "  </thead>\n",
       "  <tbody>\n",
       "    <tr>\n",
       "      <th>0</th>\n",
       "      <td>idscreen,joinscreen,Cycle,product_review,ScanP...</td>\n",
       "      <td>15</td>\n",
       "      <td>0</td>\n",
       "    </tr>\n",
       "    <tr>\n",
       "      <th>1</th>\n",
       "      <td>joinscreen,product_review,product_review2,Scan...</td>\n",
       "      <td>13</td>\n",
       "      <td>0</td>\n",
       "    </tr>\n",
       "    <tr>\n",
       "      <th>2</th>\n",
       "      <td>Splash,Cycle,Loan</td>\n",
       "      <td>3</td>\n",
       "      <td>1</td>\n",
       "    </tr>\n",
       "    <tr>\n",
       "      <th>3</th>\n",
       "      <td>product_review,Home,product_review,Loan3,Finan...</td>\n",
       "      <td>40</td>\n",
       "      <td>0</td>\n",
       "    </tr>\n",
       "    <tr>\n",
       "      <th>4</th>\n",
       "      <td>idscreen,joinscreen,Cycle,Credit3Container,Sca...</td>\n",
       "      <td>32</td>\n",
       "      <td>1</td>\n",
       "    </tr>\n",
       "  </tbody>\n",
       "</table>\n",
       "</div>"
      ],
      "text/plain": [
       "                                         screen_list  numscreens  liked\n",
       "0  idscreen,joinscreen,Cycle,product_review,ScanP...          15      0\n",
       "1  joinscreen,product_review,product_review2,Scan...          13      0\n",
       "2                                  Splash,Cycle,Loan           3      1\n",
       "3  product_review,Home,product_review,Loan3,Finan...          40      0\n",
       "4  idscreen,joinscreen,Cycle,Credit3Container,Sca...          32      1"
      ]
     },
     "execution_count": 97,
     "metadata": {},
     "output_type": "execute_result"
    }
   ],
   "source": [
    "df = pd.read_csv(\"/home/musasina/projects/FintechAppDRL/dataset/appdata10.csv\")\n",
    "df=df.drop(\"user\",axis=1)\n",
    "df=df.drop(\"first_open\",axis=1)\n",
    "df=df.drop(\"dayofweek\",axis=1)\n",
    "df=df.drop(\"hour\",axis=1)\n",
    "df=df.drop(\"age\",axis=1)\n",
    "df=df.drop(\"minigame\",axis=1)\n",
    "df=df.drop(\"used_premium_feature\",axis=1)\n",
    "df=df.drop(\"enrolled\",axis=1)\n",
    "df=df.drop(\"enrolled_date\",axis=1)\n",
    "df.head()"
   ]
  },
  {
   "cell_type": "code",
   "execution_count": 98,
   "metadata": {},
   "outputs": [
    {
     "name": "stdout",
     "output_type": "stream",
     "text": [
      "71\n",
      "10\n"
     ]
    }
   ],
   "source": [
    "df[\"numscreens\"] = df[\"numscreens\"].astype(int)\n",
    "df[\"liked\"] = df[\"liked\"].astype(int)\n",
    "df = df[df[\"numscreens\"]==65]\n",
    "print(len(df))\n",
    "print(len(df[df[\"liked\"]==1]))"
   ]
  },
  {
   "cell_type": "code",
   "execution_count": null,
   "metadata": {},
   "outputs": [],
   "source": [
    "df_liked = df[df[\"liked\"]==1]\n",
    "df_not_liked = df[df[\"liked\"]==0]"
   ]
  },
  {
   "cell_type": "code",
   "execution_count": 99,
   "metadata": {},
   "outputs": [],
   "source": [
    "screens_liked = df_liked[\"screen_list\"].to_list()\n",
    "screens_not_liked = df_not_liked[\"screen_list\"].to_list()"
   ]
  },
  {
   "cell_type": "code",
   "execution_count": 100,
   "metadata": {},
   "outputs": [
    {
     "name": "stdout",
     "output_type": "stream",
     "text": [
      "71\n"
     ]
    }
   ],
   "source": [
    "separated_screens_liked = []\n",
    "for user_screens in screens_liked:\n",
    "    separated_screens_liked.append(user_screens.split(\",\"))\n",
    "print(len(separated_screens_liked))"
   ]
  },
  {
   "cell_type": "code",
   "execution_count": 101,
   "metadata": {},
   "outputs": [
    {
     "name": "stdout",
     "output_type": "stream",
     "text": [
      "['CC1', 'CC1Category', 'CC3', 'Credit1', 'Credit2', 'Credit3Container', 'Credit3Dashboard', 'Cycle', 'Home', 'Institutions', 'Loan2', 'ProfileChildren', 'ProfileEducation', 'ProfileEducationMajor', 'ProfileMaritalStatus', 'ProfilePage', 'ReferralContainer', 'RewardsContainer', 'Saving1', 'Saving10', 'Saving4', 'Saving5', 'Saving6', 'Saving7', 'Saving8', 'Saving9', 'ScanPreview', 'SelectInstitution', 'VerifyCountry', 'VerifyDateOfBirth', 'VerifyHousing', 'VerifyHousingAmount', 'VerifyPhone', 'VerifySSN', 'VerifyToken', 'idscreen', 'location', 'product_review', 'product_review3', 'BankVerification', 'CommunityAndInvites', 'Credit1', 'Credit2', 'Credit3Container', 'Credit3Dashboard', 'Cycle', 'FindFriendsCycle', 'GroupedInstitutions', 'Home', 'Institutions', 'Loan2', 'ScanPreview', 'SelectInstitution', 'VerifyCountry', 'VerifyDateOfBirth', 'VerifyMobile', 'VerifyPhone', 'VerifySSN', 'VerifyToken', 'location', 'product_review', 'product_review2', 'Alerts', 'CC1', 'CC1Category', 'CC3', 'EditProfile', 'Home', 'Loan2', 'MLWebView', 'ProfileCompanyName', 'ProfileEmploymentLength', 'ProfileJobTitle', 'ProfilePage', 'ReferralContainer', 'SelectInstitution', 'VerifyBankInfo', 'VerifyCountry', 'VerifyHousing', 'VerifyHousingAmount', 'location', 'product_review', 'product_review2', 'BankVerification', 'CC1', 'CC1Category', 'CC3', 'CommunityAndInvites', 'Credit1', 'Credit2', 'Credit3Container', 'Credit3Dashboard', 'Home', 'Institutions', 'Loan2', 'ProfileChildren', 'ProfileMaritalStatus', 'ProfilePage', 'RewardDetail', 'Rewardjoinscreen', 'RewardsContainer', 'ScanPreview', 'SelectInstitution', 'Signup', 'SignupName', 'VerifyCountry', 'VerifyDateOfBirth', 'VerifyMobile', 'VerifyPhone', 'VerifySSN', 'VerifyToken', 'idscreen', 'location', 'product_review', 'product_review2', 'Credit3Container', 'Home', 'Institutions', 'Loan2', 'ProfileChildren', 'ProfileEducation', 'ProfileEducationMajor', 'ProfileMaritalStatus', 'ProfilePage', 'ReferralContainer', 'Saving1', 'Saving10', 'Saving4', 'Saving5', 'Saving6', 'Saving7', 'Saving8', 'Saving9', 'SavingGoalEdit', 'SavingGoalOther', 'SavingGoalPreview', 'ScanPreview', 'SelectInstitution', 'Splash', 'VerifyBankInfo', 'VerifyCountry', 'VerifyDateOfBirth', 'VerifyHousing', 'VerifyHousingAmount', 'VerifyPhone', 'VerifyToken', 'idscreen', 'location', 'product_review', 'product_review3', 'BankVerification', 'Credit1', 'Credit2', 'Credit3Container', 'Credit3Dashboard', 'Cycle', 'Home', 'Institutions', 'Loan2', 'MLWebView', 'ProfileEducation', 'ProfileEducationMajor', 'ProfileMaritalStatus', 'ProfilePage', 'ReferralContainer', 'Saving1', 'Saving10', 'Saving4', 'Saving7', 'Saving8', 'Saving9', 'ScanPreview', 'SelectInstitution', 'VerifyAnnualIncome', 'VerifyCountry', 'VerifyDateOfBirth', 'VerifyHousing', 'VerifyHousingAmount', 'VerifyPhone', 'VerifySSN', 'VerifyToken', 'location', 'product_review', 'product_review3', 'ContactInfoConfirm', 'Credit3Container', 'EditProfile', 'Home', 'Institutions', 'Loan2', 'ProfileCompanyName', 'ProfileEducation', 'ProfileEducationMajor', 'ProfileEmploymentLength', 'ProfileJobTitle', 'ProfilePage', 'ProfileVerifyIncomeType', 'ProfileVerifySSN', 'Saving1', 'Saving10', 'Saving2', 'Saving4', 'Saving5', 'Saving6', 'Saving9', 'ScanPreview', 'SelectInstitution', 'VerifyMobile', 'VerifySSN', 'YourNetwork', 'product_review', 'product_review2', 'Credit3', 'Home', 'Loan3', 'ReferralContainer', 'ResendToken', 'VerifyCountry', 'VerifyDateOfBirth', 'VerifyPhone', 'VerifyToken', 'idscreen', 'location', 'product_review', 'product_review3', 'Alerts', 'Credit3Container', 'Credit3Dashboard', 'Cycle', 'Home', 'Institutions', 'Leaderboard', 'Loan1', 'Loan2', 'ProfileChildren', 'ProfileCompanyName', 'ProfileEducation', 'ProfileEducationMajor', 'ProfileEmploymentLength', 'ProfileJobTitle', 'ProfileMaritalStatus', 'ProfilePage', 'RewardDetail', 'RewardsContainer', 'Saving1', 'Saving10', 'Saving8', 'Saving9', 'SelectInstitution', 'Settings', 'Splash', 'VerifyAnnualIncome', 'VerifyBankInfo', 'VerifyHousing', 'VerifyHousingAmount', 'VerifyIncomeType', 'AccountView', 'BankVerification', 'CC1', 'CC1Category', 'CommunityAndInvites', 'Credit1', 'Credit3Container', 'Credit3Dashboard', 'Cycle', 'EditProfile', 'Home', 'Institutions', 'Loan2', 'ProfilePage', 'Rewardjoinscreen', 'RewardsContainer', 'SelectInstitution', 'VerifyCountry', 'VerifyDateOfBirth', 'VerifyMobile', 'VerifyPhone', 'VerifySSN', 'VerifyToken', 'idscreen', 'joinscreen', 'location', 'product_review', 'product_review2', 'BankVerification', 'Credit3Container', 'Home', 'Institutions', 'Loan2', 'ProfilePage', 'ReferralContainer', 'RewardsContainer', 'ScanPreview', 'SelectInstitution', 'VerifyCountry', 'VerifyPhone', 'VerifySSN', 'VerifyToken', 'joinscreen', 'product_review', 'product_review2', 'BankVerification', 'CC1', 'CC1Category', 'Credit3Container', 'Cycle', 'GroupedInstitutions', 'Home', 'Institutions', 'Loan2', 'ProfileChildren', 'ProfileEducation', 'ProfileEducationMajor', 'ProfileMaritalStatus', 'ProfilePage', 'ReferralContainer', 'RewardDetail', 'RewardsContainer', 'Saving1', 'Saving10', 'Saving9', 'ScanPreview', 'SelectInstitution', 'Settings', 'Splash', 'VerifyHousing', 'VerifyHousingAmount', 'VerifyPhone', 'idscreen', 'AccountView', 'Alerts', 'CC1', 'CC1Category', 'CC3', 'Credit2', 'Credit3', 'Credit3Alerts', 'Finances', 'History', 'Home', 'Loan1', 'Loan3', 'ReferralContainer', 'Rewards', 'TransactionList', 'product_review', 'CommunityAndInvites', 'Credit1', 'Credit3Container', 'Credit3Dashboard', 'Home', 'Institutions', 'Loan2', 'ProfileChildren', 'ProfileEducation', 'ProfileEducationMajor', 'ProfileMaritalStatus', 'ProfilePage', 'RewardsContainer', 'Saving1', 'Saving10', 'Saving4', 'Saving7', 'Saving8', 'Saving9', 'ScanPreview', 'SelectInstitution', 'VerifyAnnualIncome', 'VerifyDateOfBirth', 'VerifyHousing', 'VerifyHousingAmount', 'VerifyPhone', 'VerifySSN', 'VerifyToken', 'location', 'Alerts', 'Credit2', 'Credit3Container', 'Credit3Dashboard', 'EditProfile', 'Home', 'Loan1', 'Loan2', 'MLWebView', 'ProfileChildren', 'ProfileCompanyName', 'ProfileEmploymentLength', 'ProfileJobTitle', 'ProfileMaritalStatus', 'ProfilePage', 'Saving8', 'Splash', 'VerifyCountry', 'VerifyHousing', 'VerifyHousingAmount', 'VerifyPhone', 'VerifyToken', 'location', 'product_review', 'product_review3', 'CC1', 'CC1Category', 'CC3', 'Credit3Container', 'EditProfile', 'Home', 'Institutions', 'Loan2', 'ProfilePage', 'ReferralContainer', 'RewardsContainer', 'ScanPreview', 'SelectInstitution', 'VerifyBankInfo', 'VerifyDateOfBirth', 'VerifyPhone', 'VerifySSN', 'VerifyToken', 'location', 'product_review', 'product_review2', 'Alerts', 'BankVerification', 'CommunityAndInvites', 'Credit3Container', 'EditProfile', 'History', 'Home', 'Institutions', 'Loan1', 'Loan2', 'ProfileAnnualIncome', 'ProfileChildren', 'ProfileCompanyName', 'ProfileEmploymentLength', 'ProfileMaritalStatus', 'ProfilePage', 'ProfileVerifyIncomeType', 'RewardsContainer', 'Saving10', 'Saving2', 'Saving2Amount', 'Saving8', 'VerifyDateOfBirth', 'VerifyToken', 'location', 'CC1', 'CommunityAndInvites', 'Credit1', 'Credit3Container', 'Credit3Dashboard', 'Cycle', 'EditProfile', 'Institutions', 'Loan2', 'MLWebView', 'ProfileMaritalStatus', 'ProfilePage', 'RewardDetail', 'RewardsContainer', 'Saving8', 'ScanPreview', 'Settings', 'VerifyAnnualIncome', 'VerifyCountry', 'VerifyDateOfBirth', 'VerifyIncomeType', 'VerifyMobile', 'VerifyPhone', 'VerifySSN', 'VerifyToken', 'idscreen', 'joinscreen', 'location', 'product_review', 'product_review2', 'BankVerification', 'Credit3Container', 'Cycle', 'Home', 'Institutions', 'Loan2', 'ProfileChildren', 'ProfileMaritalStatus', 'ProfilePage', 'ProfileVerifySSN', 'Saving2', 'Saving2Amount', 'Saving8', 'ScanPreview', 'SelectInstitution', 'VerifyCountry', 'VerifyDateOfBirth', 'VerifyPhone', 'VerifyToken', 'idscreen', 'joinscreen', 'location', 'product_review', 'product_review2', 'Alerts', 'Credit2', 'Credit3Container', 'Credit3Dashboard', 'Home', 'Institutions', 'Loan2', 'Login', 'LoginForm', 'MLWebView', 'Profileproduct_review', 'ReferralContainer', 'Settings', 'Splash', 'VerifyCountry', 'VerifyDateOfBirth', 'VerifyPhone', 'VerifySSN', 'idscreen', 'location', 'product_review', 'product_review3', 'BankVerification', 'Credit1', 'Credit2', 'Credit3', 'Finances', 'Home', 'Loan3', 'ProfileChildren', 'ProfileEducation', 'ProfileEducationMajor', 'ProfileMaritalStatus', 'ProfilePage', 'Saving1', 'Saving10', 'Saving4', 'Saving7', 'Saving9', 'ScanPreview', 'SelectInstitution', 'VerifyAnnualIncome', 'VerifyDateOfBirth', 'VerifyHousing', 'VerifyHousingAmount', 'VerifyPhone', 'VerifySSN', 'idscreen', 'location', 'product_review', 'product_review3', 'CC1', 'CC1Category', 'Credit1', 'Credit2', 'Credit3Container', 'Credit3Dashboard', 'Cycle', 'Home', 'Loan2', 'ProfileChildren', 'ProfileCompanyName', 'ProfileEmploymentLength', 'ProfileJobTitle', 'ProfileMaritalStatus', 'ProfilePage', 'Saving1', 'Saving10', 'Saving4', 'Saving5', 'Saving6', 'Saving7', 'Saving8', 'Saving9', 'ScanPreview', 'VerifyDateOfBirth', 'VerifyHousing', 'VerifyHousingAmount', 'VerifyIncomeType', 'VerifyPhone', 'VerifySSN', 'VerifyToken', 'joinscreen', 'location', 'BankVerification', 'CommunityAndInvites', 'Credit1', 'Credit3Container', 'Credit3Dashboard', 'Cycle', 'Home', 'Institutions', 'Loan2', 'Loan4', 'ScanPreview', 'SelectInstitution', 'Settings', 'VerifyCountry', 'VerifyDateOfBirth', 'VerifyMobile', 'VerifyPhone', 'VerifySSN', 'VerifyToken', 'joinscreen', 'location', 'product_review', 'product_review2', 'BankVerification', 'CommunityAndInvites', 'Credit3Container', 'EditProfile', 'Home', 'Institutions', 'ProfileAnnualIncome', 'ProfileChildren', 'ProfileCompanyName', 'ProfileEducation', 'ProfileEducationMajor', 'ProfileEmploymentLength', 'ProfileJobTitle', 'ProfileMaritalStatus', 'ProfilePage', 'ProfileVerifyIncomeType', 'ProfileVerifySSN', 'Saving2', 'Saving2Amount', 'Saving8', 'ScanPreview', 'SelectInstitution', 'VerifyCountry', 'VerifyPhone', 'VerifyToken', 'joinscreen', 'product_review', 'product_review2', 'AccountView', 'Alerts', 'CommunityAndInvites', 'Credit3Container', 'GroupedInstitutions', 'Home', 'Institutions', 'Loan2', 'ScanPreview', 'SelectInstitution', 'Settings', 'TransactionList', 'VerifyCountry', 'VerifyDateOfBirth', 'location', 'product_review', 'product_review2', 'product_review3', 'product_review4', 'product_review5', 'Credit1', 'Credit3Container', 'Credit3Dashboard', 'Cycle', 'EditProfile', 'Home', 'Institutions', 'Loan2', 'LoginForm', 'ProfileAnnualIncome', 'ProfileCompanyName', 'ProfileEmploymentLength', 'ProfileJobTitle', 'ProfilePage', 'ProfileVerifyIncomeType', 'ScanPreview', 'SelectInstitution', 'Settings', 'VerifyCountry', 'VerifyDateOfBirth', 'VerifyMobile', 'VerifyPhone', 'VerifySSN', 'VerifyToken', 'joinscreen', 'location', 'product_review', 'product_review2', 'AccountView', 'CC1', 'CC1Category', 'CC3', 'CommunityAndInvites', 'Credit3Container', 'Credit3Dashboard', 'GroupedInstitutions', 'Home', 'Institutions', 'Loan1', 'Loan2', 'AccountView', 'Credit2', 'Credit3Container', 'Credit3Dashboard', 'Cycle', 'History', 'Home', 'Institutions', 'Loan1', 'Loan2', 'MLWebView', 'ProfilePage', 'ReferralContainer', 'Splash', 'CC1', 'CC1Category', 'CC3', 'CommunityAndInvites', 'Credit1', 'Credit2', 'Credit3Container', 'Credit3Dashboard', 'Cycle', 'Home', 'Institutions', 'Leaderboard', 'Loan2', 'RewardDetail', 'Rewardjoinscreen', 'RewardsContainer', 'ScanPreview', 'VerifyDateOfBirth', 'VerifyMobile', 'VerifySSN', 'idscreen', 'joinscreen', 'location', 'product_review', 'product_review2', 'CC1', 'CC1Category', 'CC3', 'Home', 'Loan2', 'Login', 'LoginForm', 'ProfilePage', 'ProfileVerifySSN', 'Rewardjoinscreen', 'RewardsContainer', 'ScanPreview', 'Settings', 'Signup', 'SignupName', 'Splash', 'VerifyCountry', 'VerifyDateOfBirth', 'VerifyPhone', 'VerifyToken', 'joinscreen', 'location', 'product_review', 'product_review2', 'BankVerification', 'Credit1', 'Credit3Dashboard', 'Cycle', 'Home', 'Institutions', 'Loan1', 'Loan2', 'MLWebView', 'ProfileChildren', 'ProfileEducation', 'ProfileEducationMajor', 'ProfileMaritalStatus', 'ProfilePage', 'Saving1', 'Saving10', 'Saving4', 'Saving8', 'Saving9', 'ScanPreview', 'SelectInstitution', 'Splash', 'VerifyCountry', 'VerifyHousing', 'VerifyHousingAmount', 'VerifyPhone', 'VerifySSN', 'VerifyToken', 'idscreen', 'location', 'product_review', 'product_review3', 'Alerts', 'Credit1', 'Credit2', 'Credit3Container', 'Credit3Dashboard', 'Cycle', 'Home', 'Institutions', 'Loan2', 'MLWebView', 'ProfilePage', 'ReferralContainer', 'RewardDetail', 'RewardsContainer', 'ScanPreview', 'VerifyCountry', 'VerifyPhone', 'VerifySSN', 'VerifyToken', 'idscreen', 'location', 'product_review', 'product_review3', 'Alerts', 'CC1', 'Credit2', 'Credit3', 'Credit3Alerts', 'Finances', 'Home', 'Loan1', 'Loan3', 'ReferralContainer', 'Rewards', 'SelectInstitution', 'VerifyCountry', 'VerifyDateOfBirth', 'VerifyPhone', 'VerifyToken', 'WebView', 'location', 'product_review', 'product_review2', 'product_review3', 'Alerts', 'CC1', 'CC1Category', 'CC3', 'Credit2', 'Credit3', 'Credit3Alerts', 'Home', 'Loan1', 'Loan3', 'ProfileChildren', 'ProfileEducation', 'ProfileEducationMajor', 'ProfileMaritalStatus', 'ProfilePage', 'ReferralContainer', 'Rewards', 'Saving8', 'VerifyHousing', 'VerifyHousingAmount', 'WebView', 'BankVerification', 'Credit3', 'Cycle', 'Finances', 'Home', 'Loan3', 'ReferralContainer', 'SelectInstitution', 'VerifyCountry', 'VerifyDateOfBirth', 'VerifyPhone', 'VerifySSN', 'VerifyToken', 'idscreen', 'location', 'product_review', 'product_review2', 'product_review3', 'Alerts', 'CC1', 'CC1Category', 'Credit3Container', 'Credit3Dashboard', 'Home', 'LLLoanAmount', 'Leaderboard', 'Loan1', 'Loan2', 'MLWebView', 'ReferralContainer', 'RewardsContainer', 'product_review', 'BankVerification', 'CC1', 'CC1Category', 'CC3', 'Credit3', 'Finances', 'Home', 'Loan3', 'ManageFinances', 'ReferralContainer', 'ScanPreview', 'SelectInstitution', 'VerifyDateOfBirth', 'product_review', 'product_review3', 'BankVerification', 'CC1', 'CC1Category', 'Credit1', 'Credit3Container', 'Credit3Dashboard', 'GroupedInstitutions', 'Home', 'Institutions', 'Loan2', 'LoginForm', 'ReferralContainer', 'ScanPreview', 'SelectInstitution', 'Settings', 'Signup', 'SignupName', 'Splash', 'VerifyCountry', 'VerifyDateOfBirth', 'VerifyPhone', 'VerifySSN', 'VerifyToken', 'location', 'product_review', 'product_review3', 'Alerts', 'BankVerification', 'Credit3Container', 'Cycle', 'FindFriendsCycle', 'Home', 'Institutions', 'Loan2', 'ReferralContainer', 'RewardDetail', 'RewardsContainer', 'ScanPreview', 'SelectInstitution', 'VerifyCountry', 'VerifyPhone', 'VerifySSN', 'VerifyToken', 'idscreen', 'product_review', 'product_review3', 'CommunityAndInvites', 'Credit3Container', 'Cycle', 'Home', 'Institutions', 'Loan2', 'ProfileChildren', 'ProfileEducation', 'ProfileEducationMajor', 'ProfileMaritalStatus', 'ProfilePage', 'RewardDetail', 'Rewardjoinscreen', 'RewardsContainer', 'Saving1', 'Saving10', 'Saving8', 'Saving9', 'ScanPreview', 'SelectInstitution', 'VerifyCountry', 'VerifyDateOfBirth', 'VerifyHousing', 'VerifyHousingAmount', 'VerifyPhone', 'VerifySSN', 'VerifyToken', 'joinscreen', 'location', 'product_review', 'product_review2', 'BankVerification', 'CommunityAndInvites', 'ContactInfoConfirm', 'Credit3Container', 'EditProfile', 'Home', 'Institutions', 'Leaderboard', 'Loan2', 'ProfileChildren', 'ProfileEducation', 'ProfileEducationMajor', 'ProfileMaritalStatus', 'ProfilePage', 'Rewardjoinscreen', 'RewardsContainer', 'Saving1', 'Saving10', 'Saving4', 'Saving9', 'ScanPreview', 'SelectInstitution', 'VerifyAnnualIncome', 'VerifyDateOfBirth', 'VerifyHousing', 'VerifyHousingAmount', 'VerifyIncomeType', 'VerifyPhone', 'VerifySSN', 'VerifyToken', 'joinscreen', 'location', 'BankVerification', 'Credit3', 'Finances', 'Home', 'Loan3', 'ManageFinances', 'ReferralContainer', 'SelectInstitution', 'VerifyCountry', 'VerifyDateOfBirth', 'VerifyPhone', 'VerifySSN', 'VerifyToken', 'idscreen', 'location', 'product_review', 'product_review2', 'product_review3', 'Credit3Container', 'Cycle', 'EditProfile', 'Home', 'Institutions', 'Loan2', 'ProfileChildren', 'ProfileCompanyName', 'ProfileEducation', 'ProfileEducationMajor', 'ProfileEmploymentLength', 'ProfileJobTitle', 'ProfileMaritalStatus', 'ProfilePage', 'ReferralContainer', 'RewardDetail', 'RewardsContainer', 'Saving1', 'Saving10', 'Saving4', 'Saving7', 'Saving8', 'Saving9', 'ScanPreview', 'SelectInstitution', 'VerifyAnnualIncome', 'VerifyBankInfo', 'VerifyDateOfBirth', 'VerifyHousing', 'VerifyHousingAmount', 'VerifyIncomeType', 'VerifyPhone', 'VerifyToken', 'idscreen', 'location', 'product_review', 'BankVerification', 'Credit3', 'Finances', 'Home', 'Loan3', 'ReferralContainer', 'ScanPreview', 'SelectInstitution', 'VerifyCountry', 'VerifyDateOfBirth', 'VerifyPhone', 'VerifySSN', 'VerifyToken', 'idscreen', 'location', 'product_review', 'product_review2', 'product_review3', 'BankVerification', 'CC1', 'CC1Category', 'Credit1', 'Credit2', 'Credit3', 'Finances', 'Home', 'Loan3', 'ProfileChildren', 'ProfilePage', 'ReferralContainer', 'ResendToken', 'Saving1', 'Saving10', 'Saving4', 'Saving5', 'Saving6', 'Saving7', 'Saving8', 'Saving9', 'ScanPreview', 'SelectInstitution', 'VerifyCountry', 'VerifyDateOfBirth', 'VerifyHousing', 'VerifyHousingAmount', 'VerifyPhone', 'VerifySSN', 'VerifyToken', 'WebView', 'location', 'product_review', 'product_review2', 'product_review3', 'BankVerification', 'CommunityAndInvites', 'EditProfile', 'Home', 'Loan2', 'ProfileAnnualIncome', 'ProfileChildren', 'ProfileCompanyName', 'ProfileEducation', 'ProfileEducationMajor', 'ProfileEmploymentLength', 'ProfileJobTitle', 'ProfileMaritalStatus', 'ProfilePage', 'ProfileVerifyIncomeType', 'ProfileVerifySSN', 'Saving1', 'Saving10', 'Saving2', 'Saving2Amount', 'Saving4', 'Saving8', 'Saving9', 'ScanPreview', 'SelectInstitution', 'VerifyCountry', 'VerifyDateOfBirth', 'VerifyPhone', 'VerifyToken', 'joinscreen', 'location', 'product_review', 'product_review2', 'BankVerification', 'CommunityAndInvites', 'Credit1', 'Credit3Container', 'Credit3Dashboard', 'Cycle', 'EditProfile', 'Home', 'Institutions', 'Loan2', 'ProfileAnnualIncome', 'ProfileCompanyName', 'ProfileEducation', 'ProfileEducationMajor', 'ProfileEmploymentLength', 'ProfileJobTitle', 'ProfilePage', 'ProfileVerifyIncomeType', 'ScanPreview', 'SelectInstitution', 'VerifyCountry', 'VerifyDateOfBirth', 'VerifyMobile', 'VerifyPhone', 'VerifySSN', 'VerifyToken', 'idscreen', 'joinscreen', 'location', 'product_review', 'product_review2', 'BankVerification', 'Credit1', 'Credit2', 'Credit3Container', 'Credit3Dashboard', 'Cycle', 'Home', 'Institutions', 'Loan2', 'ProfileChildren', 'ProfileCompanyName', 'ProfileEducation', 'ProfileEducationMajor', 'ProfileEmploymentLength', 'ProfileJobTitle', 'ProfileMaritalStatus', 'ProfilePage', 'Saving1', 'Saving10', 'Saving4', 'Saving5', 'Saving6', 'Saving8', 'Saving9', 'ScanPreview', 'SelectInstitution', 'VerifyDateOfBirth', 'VerifyHousing', 'VerifyHousingAmount', 'VerifyIncomeType', 'VerifyPhone', 'VerifySSN', 'VerifyToken', 'idscreen', 'joinscreen', 'location', 'product_review', 'product_review2', 'product_review3', 'product_review4', 'product_review5', 'BankVerification', 'CC1', 'CC1Category', 'CommunityAndInvites', 'Home', 'Loan2', 'Login', 'LoginForm', 'ProfileEducation', 'ProfileEducationMajor', 'ProfileMaritalStatus', 'ProfilePage', 'Saving1', 'Saving10', 'Saving4', 'Saving5', 'Saving6', 'Saving7', 'Saving8', 'Saving9', 'SelectInstitution', 'Settings', 'Splash', 'VerifyCountry', 'VerifyDateOfBirth', 'VerifyHousing', 'VerifyHousingAmount', 'VerifyPhone', 'VerifySSN', 'VerifyToken', 'idscreen', 'joinscreen', 'location', 'product_review', 'product_review2', 'Credit3Container', 'Cycle', 'EditProfile', 'Home', 'Institutions', 'Loan2', 'ProfileChildren', 'ProfileEducation', 'ProfileEducationMajor', 'ProfileMaritalStatus', 'ProfilePage', 'ReferralContainer', 'Saving1', 'Saving10', 'Saving4', 'Saving5', 'Saving6', 'Saving7', 'Saving8', 'Saving9', 'ScanPreview', 'SelectInstitution', 'VerifyBankInfo', 'VerifyCountry', 'VerifyDateOfBirth', 'VerifyHousing', 'VerifyHousingAmount', 'VerifyPhone', 'VerifySSN', 'VerifyToken', 'joinscreen', 'location', 'product_review', 'product_review2', 'BankVerification', 'CommunityAndInvites', 'Credit1', 'Credit3Container', 'Cycle', 'Home', 'Institutions', 'Loan2', 'ProfilePage', 'Saving1', 'Saving10', 'Saving4', 'Saving9', 'SavingGoalOther', 'ScanPreview', 'SelectInstitution', 'VerifyBankInfo', 'VerifyCountry', 'VerifyPhone', 'VerifySSN', 'VerifyToken', 'idscreen', 'joinscreen', 'location', 'product_review', 'product_review2', 'About', 'BankVerification', 'Credit3Container', 'Home', 'Institutions', 'Leaderboard', 'Loan2', 'ProfileChildren', 'ProfileCompanyName', 'ProfileEducation', 'ProfileEducationMajor', 'ProfileEmploymentLength', 'ProfileJobTitle', 'ProfileMaritalStatus', 'ProfilePage', 'Saving1', 'Saving10', 'Saving4', 'Saving9', 'ScanPreview', 'SelectInstitution', 'Settings', 'VerifyAnnualIncome', 'VerifyHousing', 'VerifyHousingAmount', 'VerifyIncomeType', 'VerifyPhone', 'VerifyToken', 'joinscreen', 'product_review', 'product_review2', 'product_review3', 'product_review4', 'product_review5', 'BankVerification', 'CommunityAndInvites', 'Credit3Container', 'Cycle', 'EditProfile', 'GroupedInstitutions', 'Home', 'Institutions', 'Loan2', 'ProfileChildren', 'ProfileEducation', 'ProfileEducationMajor', 'ProfileMaritalStatus', 'ProfilePage', 'Saving1', 'Saving10', 'Saving4', 'Saving8', 'Saving9', 'SavingGoalPreview', 'ScanPreview', 'SelectInstitution', 'VerifyBankInfo', 'VerifyDateOfBirth', 'VerifyHousing', 'VerifyHousingAmount', 'VerifyIncomeType', 'VerifyPhone', 'VerifyToken', 'joinscreen', 'location', 'BankVerification', 'CommunityAndInvites', 'Credit3Container', 'Cycle', 'GroupedInstitutions', 'Home', 'Institutions', 'Leaderboard', 'Loan2', 'ScanPreview', 'SecurityModal', 'SelectInstitution', 'Settings', 'product_review', 'AccountView', 'BVPlaidLinkContainer', 'Credit3', 'EditProfile', 'Finances', 'Home', 'Leaderboard', 'Loan3', 'ManageFinances', 'ProfileChildren', 'ProfileCompanyName', 'ProfileEducation', 'ProfileEducationMajor', 'ProfileEmploymentLength', 'ProfileJobTitle', 'ProfileMaritalStatus', 'ProfilePage', 'ReferralContainer', 'RewardDetail', 'Rewards', 'Saving1', 'Saving5', 'Saving6', 'Saving8', 'Saving9', 'ScanPreview', 'SelectInstitution', 'Settings', 'VerifyHousing', 'VerifyHousingAmount', 'VerifyIncomeType', 'VerifyPhone', 'VerifySSN', 'VerifyToken', 'idscreen', 'EditProfile', 'Home', 'Leaderboard', 'Loan2', 'ProfileChildren', 'ProfileEducation', 'ProfileEducationMajor', 'ProfileMaritalStatus', 'ProfilePage', 'Saving1', 'Saving10', 'Saving4', 'Saving5', 'Saving6', 'Saving7', 'Saving8', 'Saving9', 'SavingGoalOther', 'VerifyAnnualIncome', 'VerifyCountry', 'VerifyDateOfBirth', 'VerifyHousing', 'VerifyHousingAmount', 'VerifyIncomeType', 'VerifyPhone', 'VerifySSN', 'VerifyToken', 'idscreen', 'joinscreen', 'location', 'product_review', 'product_review2', 'BankVerification', 'CC1', 'CC1Category', 'Credit3Container', 'Home', 'Institutions', 'Loan2', 'ProfilePage', 'ReferralContainer', 'RewardDetail', 'RewardsContainer', 'ScanPreview', 'SelectInstitution', 'VerifyCountry', 'VerifyDateOfBirth', 'VerifyPhone', 'VerifySSN', 'VerifyToken', 'location', 'product_review', 'product_review3', 'Alerts', 'CC1', 'CC1Category', 'CommunityAndInvites', 'Credit2', 'Credit3Container', 'Credit3Dashboard', 'EditProfile', 'GroupedInstitutions', 'History', 'Home', 'Institutions', 'Loan1', 'Loan2', 'ProfileChildren', 'ProfileMaritalStatus', 'ProfilePage', 'Saving1', 'Saving10', 'Saving2', 'Saving2Amount', 'Saving4', 'Saving8', 'Saving9', 'AccountView', 'Alerts', 'CommunityAndInvites', 'Credit3Container', 'Credit3Dashboard', 'History', 'Home', 'Institutions', 'Loan1', 'Loan2', 'ProfilePage', 'Rewardjoinscreen', 'RewardsContainer', 'Credit3Container', 'Cycle', 'Home', 'Loan2', 'ScanPreview', 'VerifyCountry', 'VerifyDateOfBirth', 'VerifyPhone', 'VerifyToken', 'idscreen', 'location', 'product_review', 'product_review3', 'BankVerification', 'Credit3', 'Finances', 'Home', 'Loan3', 'ReferralContainer', 'SelectInstitution', 'VerifyCountry', 'VerifyDateOfBirth', 'VerifyPhone', 'VerifySSN', 'VerifyToken', 'location', 'product_review', 'product_review2', 'product_review3', 'AccountView', 'BankVerification', 'CommunityAndInvites', 'Credit3Container', 'Credit3Dashboard', 'GroupedInstitutions', 'Home', 'Institutions', 'Loan2', 'ScanPreview', 'SelectInstitution', 'VerifyCountry', 'VerifyDateOfBirth', 'VerifyPhone', 'VerifyToken', 'location', 'product_review', 'product_review2', 'BankVerification', 'EditProfile', 'Home', 'Loan2', 'ProfileChildren', 'ProfileCompanyName', 'ProfileEducation', 'ProfileEducationMajor', 'ProfileEmploymentLength', 'ProfileJobTitle', 'ProfileMaritalStatus', 'ProfilePage', 'Saving1', 'Saving10', 'Saving4', 'Saving5', 'Saving6', 'Saving8', 'Saving9', 'ScanPreview', 'SelectInstitution', 'VerifyCountry', 'VerifyDateOfBirth', 'VerifyHousing', 'VerifyHousingAmount', 'VerifyIncomeType', 'VerifyPhone', 'VerifySSN', 'VerifyToken', 'joinscreen', 'location', 'product_review', 'product_review2', 'product_review3', 'product_review4', 'product_review5', 'AccountView', 'BankVerification', 'CC1', 'CC1Category', 'CameraScreen', 'Credit3Container', 'Cycle', 'EditProfile', 'GroupedInstitutions', 'Institutions', 'ProfileCompanyName', 'ProfileEducation', 'ProfileEducationMajor', 'ProfileEmploymentLength', 'ProfileJobTitle', 'ProfilePage', 'ProfileVerifyIncomeType', 'ProfileVerifySSN', 'RewardDetail', 'RewardsContainer', 'Saving2', 'Saving2Amount', 'Saving5', 'Saving6', 'Saving8', 'ScanPreview', 'SelectInstitution', 'VerifyDateOfBirth', 'VerifyPhone', 'VerifyToken', 'idscreen', 'joinscreen', 'location', 'product_review', 'product_review2', 'Alerts', 'BankVerification', 'Home', 'Loan2', 'ProfileChildren', 'ProfileEducation', 'ProfileEducationMajor', 'ProfileMaritalStatus', 'ProfilePage', 'RewardsContainer', 'Saving1', 'Saving10', 'Saving4', 'Saving8', 'Saving9', 'SelectInstitution', 'Splash', 'VerifyCountry', 'VerifyHousing', 'VerifyHousingAmount', 'VerifyPhone', 'VerifyToken', 'location', 'product_review', 'product_review2', 'CC1', 'CameraScreen', 'Credit3Container', 'EditProfile', 'Home', 'Loan2', 'ProfileAnnualIncome', 'ProfileChildren', 'ProfileCompanyName', 'ProfileEducation', 'ProfileEducationMajor', 'ProfileEmploymentLength', 'ProfileJobTitle', 'ProfileMaritalStatus', 'ProfilePage', 'ProfileVerifyIncomeType', 'ProfileVerifySSN', 'Rewardjoinscreen', 'Saving2', 'Saving2Amount', 'Saving8', 'ScanPreview', 'VerifyToken', 'joinscreen', 'product_review', 'product_review2', 'Credit3Container', 'Credit3Dashboard', 'EditProfile', 'Home', 'Loan1', 'Loan2', 'MLWebView', 'ProfileChildren', 'ProfileCompanyName', 'ProfileEducation', 'ProfileEducationMajor', 'ProfileEmploymentLength', 'ProfileJobTitle', 'ProfileMaritalStatus', 'ProfilePage', 'RewardsContainer', 'Saving5', 'Saving6', 'Saving8', 'SelectInstitution', 'Splash', 'VerifyBankInfo', 'VerifyCountry', 'VerifyHousing', 'VerifyHousingAmount', 'VerifyIncomeType', 'VerifyPhone', 'VerifyToken', 'idscreen', 'location', 'product_review', 'product_review3', 'BankVerification', 'Credit3Container', 'Home', 'Institutions', 'Loan2', 'ScanPreview', 'SelectInstitution', 'Splash', 'VerifyCountry', 'VerifyDateOfBirth', 'VerifyPhone', 'VerifySSN', 'VerifyToken', 'idscreen', 'location', 'product_review', 'product_review3', 'Alerts', 'EditProfile', 'Finances', 'Home', 'Loan1', 'Loan3', 'ProfileChildren', 'ProfileCompanyName', 'ProfileEducation', 'ProfileEducationMajor', 'ProfileEmploymentLength', 'ProfileJobTitle', 'ProfileMaritalStatus', 'ProfilePage', 'Saving1', 'Saving5', 'Saving6', 'Saving8', 'Saving9', 'SelectInstitution', 'Settings', 'VerifyBankInfo', 'VerifyCountry', 'VerifyDateOfBirth', 'VerifyHousing', 'VerifyHousingAmount', 'VerifyIncomeType', 'VerifyPhone', 'VerifyToken', 'WebView', 'idscreen', 'location', 'product_review', 'product_review3', 'Credit1', 'Credit3Container', 'Cycle', 'EditProfile', 'Home', 'Institutions', 'Loan1', 'Loan2', 'ProfileCompanyName', 'ProfileEducation', 'ProfileEducationMajor', 'ProfileEmploymentLength', 'ProfileJobTitle', 'ProfileMaritalStatus', 'ProfilePage', 'Profileproduct_review', 'ReferralContainer', 'Saving1', 'Saving10', 'Saving9', 'Splash', 'VerifyDateOfBirth', 'VerifyPhone', 'VerifySSN', 'location', 'product_review', 'BankVerification', 'CC1', 'CC1Category', 'Credit1', 'Credit3Container', 'Home', 'Institutions', 'Loan2', 'ScanPreview', 'SelectInstitution', 'VerifyCountry', 'VerifyDateOfBirth', 'VerifyPhone', 'VerifySSN', 'VerifyToken', 'joinscreen', 'location', 'product_review', 'product_review2']\n",
      "1819\n"
     ]
    }
   ],
   "source": [
    "\n",
    "unique_screens = []\n",
    "\n",
    "for separated_user_screens in separated_screens_liked:\n",
    "    unique_screens.extend(np.unique(separated_user_screens))\n",
    "print(unique_screens)\n",
    "print(len(unique_screens))\n",
    "\n",
    "unique_screens_number_map = {}\n",
    "for i,screen in zip(count(),unique_screens):\n",
    "    unique_screens_number_map[screen] = i"
   ]
  },
  {
   "cell_type": "code",
   "execution_count": null,
   "metadata": {},
   "outputs": [],
   "source": [
    "env_map = {}\n",
    "node_count= 0\n",
    "for user_screens in separated_screens_liked:\n",
    "    node_ptr = None\n",
    "    for i,screen in enumerate(user_screens):\n",
    "        if hasattr(env_map,screen) and i == 0:\n",
    "            node_ptr = Node(screen,unique_screens_number_map[screen],NodeType.TRUE,node_count)\n",
    "            env_map[screen].add_child(node_ptr)\n",
    "        elif not hasattr(env_map,screen) and i==0:\n",
    "            node_ptr = Node(screen,unique_screens_number_map[screen],NodeType.TRUE,node_count)\n",
    "            env_map[screen] = node_ptr\n",
    "        else:\n",
    "            new_node = Node(screen,unique_screens_number_map[screen],NodeType.TRUE,node_count)\n",
    "            node_ptr = node_ptr.add_child(new_node)\n",
    "        node_count +=1"
   ]
  }
 ],
 "metadata": {
  "kernelspec": {
   "display_name": "teknofest",
   "language": "python",
   "name": "python3"
  },
  "language_info": {
   "codemirror_mode": {
    "name": "ipython",
    "version": 3
   },
   "file_extension": ".py",
   "mimetype": "text/x-python",
   "name": "python",
   "nbconvert_exporter": "python",
   "pygments_lexer": "ipython3",
   "version": "3.11.9"
  }
 },
 "nbformat": 4,
 "nbformat_minor": 2
}
