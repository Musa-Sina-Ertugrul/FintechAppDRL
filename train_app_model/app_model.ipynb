{
 "cells": [
  {
   "cell_type": "code",
   "execution_count": 61,
   "metadata": {},
   "outputs": [],
   "source": [
    "import pandas as pd\n",
    "import numpy as np\n",
    "from itertools import count\n",
    "from sklearn.feature_extraction.text import CountVectorizer"
   ]
  },
  {
   "cell_type": "code",
   "execution_count": 62,
   "metadata": {},
   "outputs": [
    {
     "data": {
      "text/html": [
       "<div>\n",
       "<style scoped>\n",
       "    .dataframe tbody tr th:only-of-type {\n",
       "        vertical-align: middle;\n",
       "    }\n",
       "\n",
       "    .dataframe tbody tr th {\n",
       "        vertical-align: top;\n",
       "    }\n",
       "\n",
       "    .dataframe thead th {\n",
       "        text-align: right;\n",
       "    }\n",
       "</style>\n",
       "<table border=\"1\" class=\"dataframe\">\n",
       "  <thead>\n",
       "    <tr style=\"text-align: right;\">\n",
       "      <th></th>\n",
       "      <th>screen_list</th>\n",
       "      <th>numscreens</th>\n",
       "      <th>liked</th>\n",
       "    </tr>\n",
       "  </thead>\n",
       "  <tbody>\n",
       "    <tr>\n",
       "      <th>0</th>\n",
       "      <td>idscreen,joinscreen,Cycle,product_review,ScanP...</td>\n",
       "      <td>15</td>\n",
       "      <td>0</td>\n",
       "    </tr>\n",
       "    <tr>\n",
       "      <th>1</th>\n",
       "      <td>joinscreen,product_review,product_review2,Scan...</td>\n",
       "      <td>13</td>\n",
       "      <td>0</td>\n",
       "    </tr>\n",
       "    <tr>\n",
       "      <th>2</th>\n",
       "      <td>Splash,Cycle,Loan</td>\n",
       "      <td>3</td>\n",
       "      <td>1</td>\n",
       "    </tr>\n",
       "    <tr>\n",
       "      <th>3</th>\n",
       "      <td>product_review,Home,product_review,Loan3,Finan...</td>\n",
       "      <td>40</td>\n",
       "      <td>0</td>\n",
       "    </tr>\n",
       "    <tr>\n",
       "      <th>4</th>\n",
       "      <td>idscreen,joinscreen,Cycle,Credit3Container,Sca...</td>\n",
       "      <td>32</td>\n",
       "      <td>1</td>\n",
       "    </tr>\n",
       "  </tbody>\n",
       "</table>\n",
       "</div>"
      ],
      "text/plain": [
       "                                         screen_list  numscreens  liked\n",
       "0  idscreen,joinscreen,Cycle,product_review,ScanP...          15      0\n",
       "1  joinscreen,product_review,product_review2,Scan...          13      0\n",
       "2                                  Splash,Cycle,Loan           3      1\n",
       "3  product_review,Home,product_review,Loan3,Finan...          40      0\n",
       "4  idscreen,joinscreen,Cycle,Credit3Container,Sca...          32      1"
      ]
     },
     "execution_count": 62,
     "metadata": {},
     "output_type": "execute_result"
    }
   ],
   "source": [
    "df = pd.read_csv(\"/home/musasina/projects/FintechAppDRL/dataset/appdata10.csv\")\n",
    "df=df.drop(\"user\",axis=1)\n",
    "df=df.drop(\"first_open\",axis=1)\n",
    "df=df.drop(\"dayofweek\",axis=1)\n",
    "df=df.drop(\"hour\",axis=1)\n",
    "df=df.drop(\"age\",axis=1)\n",
    "df=df.drop(\"minigame\",axis=1)\n",
    "df=df.drop(\"used_premium_feature\",axis=1)\n",
    "df=df.drop(\"enrolled\",axis=1)\n",
    "df=df.drop(\"enrolled_date\",axis=1)\n",
    "df.head()"
   ]
  },
  {
   "cell_type": "code",
   "execution_count": 63,
   "metadata": {},
   "outputs": [],
   "source": [
    "df[\"numscreens\"] = df[\"numscreens\"].astype(int)\n",
    "df[\"liked\"] = df[\"liked\"].astype(int)\n",
    "df = df[df[\"numscreens\"]>20]\n",
    "df = df[df[\"numscreens\"]<50]"
   ]
  },
  {
   "cell_type": "code",
   "execution_count": 64,
   "metadata": {},
   "outputs": [
    {
     "name": "stdout",
     "output_type": "stream",
     "text": [
      "liked:  5603\n",
      "not liked:  28327\n"
     ]
    }
   ],
   "source": [
    "df_liked = df[df[\"liked\"]==1]\n",
    "df_not_liked = df[df[\"liked\"]==0]\n",
    "print(\"liked: \",len(df_liked))\n",
    "print(\"not liked: \",len(df_not_liked))"
   ]
  },
  {
   "cell_type": "code",
   "execution_count": 65,
   "metadata": {},
   "outputs": [],
   "source": [
    "screens_liked = df_liked[\"screen_list\"].to_list()\n",
    "screens_not_liked = df_not_liked[\"screen_list\"].to_list()"
   ]
  },
  {
   "cell_type": "code",
   "execution_count": 66,
   "metadata": {},
   "outputs": [
    {
     "name": "stdout",
     "output_type": "stream",
     "text": [
      "5603\n"
     ]
    }
   ],
   "source": [
    "separated_screens_liked = []\n",
    "for user_screens in screens_liked:\n",
    "    separated_screens_liked.append(user_screens.split(\",\"))\n",
    "print(len(separated_screens_liked))"
   ]
  },
  {
   "cell_type": "code",
   "execution_count": 67,
   "metadata": {},
   "outputs": [
    {
     "name": "stdout",
     "output_type": "stream",
     "text": [
      "28327\n"
     ]
    }
   ],
   "source": [
    "separated_screens_not_liked = []\n",
    "for user_screens in screens_not_liked:\n",
    "    separated_screens_not_liked.append(user_screens.split(\",\"))\n",
    "print(len(separated_screens_not_liked))"
   ]
  },
  {
   "cell_type": "code",
   "execution_count": 68,
   "metadata": {},
   "outputs": [
    {
     "name": "stdout",
     "output_type": "stream",
     "text": [
      "452480\n"
     ]
    }
   ],
   "source": [
    "\n",
    "unique_screens = []\n",
    "\n",
    "for separated_user_screens in (separated_screens_liked + separated_screens_not_liked):\n",
    "    unique_screens.extend(np.unique(separated_user_screens))\n",
    "print(len(unique_screens))\n",
    "\n",
    "unique_screens_number_map = {}\n",
    "for i,screen in zip(count(),unique_screens):\n",
    "    unique_screens_number_map[screen] = i"
   ]
  },
  {
   "cell_type": "code",
   "execution_count": 69,
   "metadata": {},
   "outputs": [
    {
     "name": "stdout",
     "output_type": "stream",
     "text": [
      "{'bankverification': 6, 'credit1': 16, 'credit3container': 20, 'cycle': 23, 'home': 32, 'institutions': 38, 'loan2': 46, 'referralcontainer': 89, 'scanpreview': 112, 'selectinstitution': 114, 'verifycountry': 123, 'verifyphone': 129, 'verifyssn': 130, 'verifytoken': 131, 'idscreen': 35, 'joinscreen': 39, 'product_review': 71, 'product_review2': 72, 'splash': 119, 'verifydateofbirth': 124, 'location': 63, 'product_review3': 73, 'credit3dashboard': 21, 'referralscreen': 91, 'rewardscontainer': 97, 'mlwebview': 67, 'welcomebankverification': 133, 'profilechildren': 77, 'profilepage': 84, 'saving1': 98, 'saving10': 99, 'saving4': 102, 'saving5': 103, 'saving6': 104, 'saving7': 105, 'saving8': 106, 'saving9': 107, 'verifyhousing': 125, 'verifyhousingamount': 126, 'verifymobile': 128, 'alerts': 5, 'credit2': 17, 'bvplaidlinkcontainer': 8, 'credit3': 18, 'finances': 27, 'loan3': 47, 'managefinances': 66, 'profileverifyssn': 87, 'communityandinvites': 14, 'leaderboard': 41, 'loginform': 65, 'settings': 115, 'signup': 116, 'signupname': 118, 'accountview': 1, 'networkfailure': 68, 'loan1': 45, 'loanappschedulecall': 59, 'profileeducationmajor': 80, 'securitymodal': 113, 'cc1': 11, 'cc1category': 12, 'webview': 132, 'cc3': 13, 'editprofile': 24, 'profileeducation': 79, 'profilemaritalstatus': 83, 'login': 64, 'rewarddetail': 94, 'rewardjoinscreen': 95, 'loan': 44, 'history': 31, 'groupedinstitutions': 30, 'rewards': 96, 'transactionlist': 120, 'saving2amount': 101, 'product_review4': 74, 'product_review5': 75, 'loan4': 48, 'saving2': 100, 'profileemploymentlength': 81, 'payoff': 70, 'verifybankinfo': 122, 'profilecompanyname': 78, 'profilejobtitle': 82, 'verifyannualincome': 121, 'verifyincometype': 127, 'llloanamount': 43, 'resendtoken': 92, 'findfriendscycle': 28, 'loanappesign': 53, 'loanapppaymentschedule': 55, 'loanappsuccess': 60, 'yournetwork': 134, 'about': 0, 'reviewcreditcard': 93, 'loanappdenied': 52, 'credit3alerts': 19, 'newcontactlistinvite': 69, 'forgotpassword': 29, 'landingscreen': 40, 'savinggoalincomesalary': 109, 'boostfriendslist': 7, 'listpicker': 42, 'savinggoalother': 110, 'profileverifyincometype': 86, 'profileannualincome': 76, 'loanappagreement': 49, 'loanapppromocode': 56, 'loanappreasons': 57, 'loanapprequestamount': 58, 'adverseactions': 4, 'bvstats': 9, 'profileproduct_review': 85, 'savinggoalpreview': 111, 'loanappconfirmwithdrawal': 51, 'loanappwithdrawn': 62, 'signupemail': 117, 'credits': 22, 'contactinfoconfirm': 15, 'loanappbankinfo': 50, 'camerascreen': 10, 'employmentinfo': 25, 'addproperty': 2, 'employmentsummary': 26, 'referrals': 90, 'instantoffercreateaccount': 37, 'savinggoaledit': 108, 'providerlist': 88, 'addvehicle': 3, 'identityverification': 34, 'loanapploan4': 54, 'loanappverifybankinfo': 61, 'instantloanssn': 36, 'idandselfiecamerascreen': 33}\n",
      "135\n"
     ]
    }
   ],
   "source": [
    "result = CountVectorizer().fit(unique_screens)\n",
    "print(result.vocabulary_)\n",
    "print(len(result.vocabulary_))"
   ]
  },
  {
   "cell_type": "code",
   "execution_count": 70,
   "metadata": {},
   "outputs": [],
   "source": [
    "results = []\n",
    "for user_screens in separated_screens_liked:\n",
    "    past_screen = \"\"\n",
    "    squeezed_screens = []\n",
    "    for screen in user_screens:\n",
    "        if past_screen != screen:\n",
    "            squeezed_screens.append(screen)\n",
    "            past_screen = screen\n",
    "    results.append(squeezed_screens)"
   ]
  }
 ],
 "metadata": {
  "kernelspec": {
   "display_name": "teknofest",
   "language": "python",
   "name": "python3"
  },
  "language_info": {
   "codemirror_mode": {
    "name": "ipython",
    "version": 3
   },
   "file_extension": ".py",
   "mimetype": "text/x-python",
   "name": "python",
   "nbconvert_exporter": "python",
   "pygments_lexer": "ipython3",
   "version": "3.11.9"
  }
 },
 "nbformat": 4,
 "nbformat_minor": 2
}
